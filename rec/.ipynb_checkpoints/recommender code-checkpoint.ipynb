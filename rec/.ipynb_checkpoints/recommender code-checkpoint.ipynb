{
 "cells": [
  {
   "cell_type": "code",
   "execution_count": 3,
   "id": "04953a4f",
   "metadata": {},
   "outputs": [
    {
     "ename": "SyntaxError",
     "evalue": "cannot assign to function call here. Maybe you meant '==' instead of '='? (3121401979.py, line 133)",
     "output_type": "error",
     "traceback": [
      "\u001b[1;36m  Input \u001b[1;32mIn [3]\u001b[1;36m\u001b[0m\n\u001b[1;33m    if len(books) = NUM_REC:\u001b[0m\n\u001b[1;37m       ^\u001b[0m\n\u001b[1;31mSyntaxError\u001b[0m\u001b[1;31m:\u001b[0m cannot assign to function call here. Maybe you meant '==' instead of '='?\n"
     ]
    }
   ],
   "source": [
    "import sys\n",
    "import numpy as np\n",
    "import pandas as pd\n",
    "import sklearn as sk\n",
    "import matplotlib.pyplot as plt\n",
    "import random\n",
    "from sklearn.preprocessing import MinMaxScaler\n",
    "from sklearn.cluster import KMeans\n",
    "from sklearn import neighbors\n",
    "\n",
    "NUM_REC = 5\n",
    "\n",
    "df = pd.read_csv(\"final.csv\")\n",
    "\n",
    "df2 = df.copy()\n",
    "df2.loc[ (df2['rating'] >= 0) & (df2['rating'] <= 1), 'rating_between'] = \"0 to 1\"\n",
    "df2.loc[ (df2['rating'] > 1) & (df2['rating'] <= 2), 'rating_between'] = \"1 to 2\"\n",
    "df2.loc[ (df2['rating'] > 2) & (df2['rating'] <= 3), 'rating_between'] = \"2 to 3\"\n",
    "df2.loc[ (df2['rating'] > 3) & (df2['rating'] <= 4), 'rating_between'] = \"3 to 4\"\n",
    "df2.loc[ (df2['rating'] > 4) & (df2['rating'] <= 5), 'rating_between'] = \"4 to 5\"\n",
    "\n",
    "rating_df = pd.get_dummies(df2['rating_between'])\n",
    "\n",
    "g_types = ['fiction', 'nonfiction', 'horror', 'thriller', 'fantasy', 'mystery', 'history', 'romance', 'classic', 'crime', 'comedy']\n",
    "\n",
    "genres = df2[g_types]\n",
    "features = pd.concat([rating_df, df2['rating'], df2['rating_count'], df2['pages'], df2[g_types]], axis=1)\n",
    "\n",
    "min_max_scaler = MinMaxScaler()\n",
    "features = min_max_scaler.fit_transform(features)\n",
    "\n",
    "model = neighbors.NearestNeighbors(n_neighbors=10, algorithm='auto')\n",
    "model.fit(features)\n",
    "\n",
    "\n",
    "# Query for indices of and distances to the neighbors of every book. \n",
    "# Each entry represents the list of nearest neighbours and their distances for each book,\n",
    "#     sharing the same index of the queried book as in the dataframe. \n",
    "dist, idlist = model.kneighbors(features)\n",
    "\n",
    "\n",
    "'''\n",
    "Returns a list of other books by the author\n",
    "    returns a numpy array\n",
    "'''\n",
    "\n",
    "def recommend_by_author(_df, title):\n",
    "    entry = _df[_df['title'] == title]\n",
    "    author = entry['author'].to_numpy()\n",
    "#     display(author)\n",
    "    books = _df[(_df['author'].to_numpy() == author) &\n",
    "                (_df['rating'] >= 3) &\n",
    "                (_df['title'] != title)]\n",
    "    out = list()\n",
    "    for isbn in books['isbn']:\n",
    "        out.append(isbn)\n",
    "#     out = books.to_numpy()\n",
    "    return (out)\n",
    "\n",
    "\n",
    "\n",
    "'''\n",
    "    kNN algorithm\n",
    "    returns array of isbns of recommended books based on given book\n",
    "'''\n",
    "def kNN_recommender(_df, knn_idlist, title):\n",
    "    rec_titles = []\n",
    "    # get index of read book in dataframe\n",
    "    idx = df2[df2['title'] == title].index\n",
    "    bookID = idx[0]\n",
    "    # For all entries in the nearest neighbours matrix, \n",
    "    # add nearest neighbours for the book as specified by index. \n",
    "    for newid in idlist[bookID]:\n",
    "        if (str(df2.loc[newid].title) == title):\n",
    "            continue\n",
    "        else:\n",
    "            rec_titles.append(df2.loc[newid].title) \n",
    "    # Only return books whose average rating >= 3\n",
    "    books = _df[(_df['rating'] >= 3) &\n",
    "                (_df['title'].isin(rec_titles))]\n",
    "    out = list()\n",
    "    for isbn in books['isbn']:\n",
    "        out.append(isbn)\n",
    "    return (out)\n",
    "\n",
    "\n",
    "\n",
    "\n",
    "# '''\n",
    "#     Get a random set of books\n",
    "# '''\n",
    "# def getRandom(_df):\n",
    "#     randoms = _df.sample(n = NUM_REC)\n",
    "#     out = randoms['isbn'].to_numpy()\n",
    "#     return out\n",
    "\n",
    "'''\n",
    "    Get a random set of books\n",
    "    Returns: list of ISBN\n",
    "'''\n",
    "def getRandom(_df):\n",
    "    randoms = _df.sample(n = NUM_REC)\n",
    "    out = list()\n",
    "    for isbn in randoms['isbn']:\n",
    "        out.append(isbn)\n",
    "    return out\n",
    "\n",
    "\n",
    "def getRecommendations(_df, knn_idlist, readBooks):\n",
    "    books = set()\n",
    "    if (len(readBooks) == 0):\n",
    "        # if user nas no books in main collection, recommend books at random\n",
    "        for rec in getRandom(_df):\n",
    "            books.add(rec)\n",
    "    else:\n",
    "        # otherwise, for each book generate a list of recommendations\n",
    "        for title in readBooks:\n",
    "            print(title)\n",
    "            # generate recommendations by author\n",
    "            for rec in recommend_by_author(_df, title):\n",
    "                books.add(rec)\n",
    "                print(f\"author rec: {rec}\")\n",
    "            # generate recommendations by features\n",
    "            for rec in kNN_recommender(_df, knn_idlist, title):\n",
    "                books.add(rec)\n",
    "                print(f\"kNN rec: {rec}\")\n",
    "    \n",
    "    # if not enough books to recommend, generate some extras\n",
    "    if (len(books) < NUM_REC):\n",
    "        extras = getRandom(_df)\n",
    "        for rec in extras:\n",
    "            books.add(rec)\n",
    "            if (len(books) == NUM_REC):\n",
    "                break\n",
    "    \n",
    "    \n",
    "    result = random.choices(tuple(books), k=NUM_REC)\n",
    "    print(type(result))\n",
    "    \n",
    "    return result\n",
    "        \n",
    "\n",
    "input = sys.argv[1]"
   ]
  },
  {
   "cell_type": "code",
   "execution_count": 29,
   "id": "75f77e84",
   "metadata": {},
   "outputs": [
    {
     "name": "stdout",
     "output_type": "stream",
     "text": [
      "<class 'list'>\n",
      "['0553287893', '1556434715', '0553287893', '0375704051', '0375704051']\n"
     ]
    }
   ],
   "source": [
    "read_titles = []\n",
    "books = getRecommendations(df, idlist, read_titles)\n",
    "\n",
    "print(books)"
   ]
  },
  {
   "cell_type": "code",
   "execution_count": 2,
   "id": "19bc586f",
   "metadata": {},
   "outputs": [
    {
     "ename": "NameError",
     "evalue": "name 'getRecommendations' is not defined",
     "output_type": "error",
     "traceback": [
      "\u001b[1;31m---------------------------------------------------------------------------\u001b[0m",
      "\u001b[1;31mNameError\u001b[0m                                 Traceback (most recent call last)",
      "Input \u001b[1;32mIn [2]\u001b[0m, in \u001b[0;36m<cell line: 2>\u001b[1;34m()\u001b[0m\n\u001b[0;32m      1\u001b[0m read_titles \u001b[38;5;241m=\u001b[39m [\u001b[38;5;124m\"\u001b[39m\u001b[38;5;124mThe Tao of Pooh\u001b[39m\u001b[38;5;124m\"\u001b[39m]\n\u001b[1;32m----> 2\u001b[0m books \u001b[38;5;241m=\u001b[39m \u001b[43mgetRecommendations\u001b[49m(df, idlist, read_titles)\n\u001b[0;32m      4\u001b[0m \u001b[38;5;28mprint\u001b[39m(books)\n",
      "\u001b[1;31mNameError\u001b[0m: name 'getRecommendations' is not defined"
     ]
    }
   ],
   "source": [
    "read_titles = [\"The Tao of Pooh\"]\n",
    "books = getRecommendations(df, idlist, read_titles)\n",
    "\n",
    "print(books)"
   ]
  },
  {
   "cell_type": "code",
   "execution_count": 3,
   "id": "fe5c28bd",
   "metadata": {},
   "outputs": [
    {
     "name": "stdout",
     "output_type": "stream",
     "text": [
      "Airframe\n",
      "author rec: 0345417623\n",
      "author rec: 0345378490\n",
      "author rec: 0345370775\n",
      "author rec: 0345380371\n",
      "author rec: 034540288X\n",
      "author rec: 0345378482\n",
      "author rec: 0061015725\n",
      "author rec: 0345353145\n",
      "author rec: 0345391055\n",
      "author rec: 0345354621\n",
      "author rec: 0345354613\n",
      "author rec: 034539092X\n",
      "kNN rec: 0385497466\n",
      "kNN rec: 0061032077\n",
      "kNN rec: 0440241073\n",
      "kNN rec: 0446604089\n",
      "kNN rec: 0743448642\n",
      "kNN rec: 0446354678\n",
      "kNN rec: 0241125421\n",
      "kNN rec: 0312956614\n",
      "kNN rec: 0312266863\n",
      "['0345378490', '0241125421', '0446354678', '0345378490', '0743448642']\n"
     ]
    }
   ],
   "source": [
    "read_titles = [\"Airframe\"]\n",
    "books = getRecommendations(df, idlist, read_titles)\n",
    "\n",
    "print(books)"
   ]
  },
  {
   "cell_type": "code",
   "execution_count": 4,
   "id": "d70a54e5",
   "metadata": {},
   "outputs": [
    {
     "name": "stdout",
     "output_type": "stream",
     "text": [
      "Sarah, Plain and Tall\n",
      "author rec: 0060210990\n",
      "kNN rec: 0452264510\n",
      "kNN rec: 0394744209\n",
      "kNN rec: 0380010038\n",
      "kNN rec: 0440479002\n",
      "kNN rec: 0571069770\n",
      "kNN rec: 0590406116\n",
      "kNN rec: 055327838X\n",
      "kNN rec: 082031661X\n",
      "kNN rec: 8401427762\n",
      "['0060210990', '0440479002', '0452264510', '055327838X', '0380010038']\n"
     ]
    }
   ],
   "source": [
    "read_titles = [\"Sarah, Plain and Tall\"]\n",
    "books = getRecommendations(df, idlist, read_titles)\n",
    "\n",
    "print(books)"
   ]
  },
  {
   "cell_type": "code",
   "execution_count": 26,
   "id": "61c798ec",
   "metadata": {},
   "outputs": [
    {
     "name": "stdout",
     "output_type": "stream",
     "text": [
      "Sarah, Plain and Tall\n",
      "author rec: 0060210990\n",
      "kNN rec: 0452264510\n",
      "kNN rec: 0394744209\n",
      "kNN rec: 0380010038\n",
      "kNN rec: 0440479002\n",
      "kNN rec: 0571069770\n",
      "kNN rec: 0590406116\n",
      "kNN rec: 055327838X\n",
      "kNN rec: 082031661X\n",
      "kNN rec: 8401427762\n",
      "Airframe\n",
      "author rec: 0345417623\n",
      "author rec: 0345378490\n",
      "author rec: 0345370775\n",
      "author rec: 0345380371\n",
      "author rec: 034540288X\n",
      "author rec: 0345378482\n",
      "author rec: 0061015725\n",
      "author rec: 0345353145\n",
      "author rec: 0345391055\n",
      "author rec: 0345354621\n",
      "author rec: 0345354613\n",
      "author rec: 034539092X\n",
      "kNN rec: 0385497466\n",
      "kNN rec: 0061032077\n",
      "kNN rec: 0440241073\n",
      "kNN rec: 0446604089\n",
      "kNN rec: 0743448642\n",
      "kNN rec: 0446354678\n",
      "kNN rec: 0241125421\n",
      "kNN rec: 0312956614\n",
      "kNN rec: 0312266863\n",
      "['0312956614', '0446604089', '0345380371', '0345417623', '034540288X']\n"
     ]
    }
   ],
   "source": [
    "read_titles = [\"Sarah, Plain and Tall\", \"Airframe\"]\n",
    "books = getRecommendations(df, idlist, read_titles)\n",
    "\n",
    "print(books)"
   ]
  }
 ],
 "metadata": {
  "kernelspec": {
   "display_name": "Python 3 (ipykernel)",
   "language": "python",
   "name": "python3"
  },
  "language_info": {
   "codemirror_mode": {
    "name": "ipython",
    "version": 3
   },
   "file_extension": ".py",
   "mimetype": "text/x-python",
   "name": "python",
   "nbconvert_exporter": "python",
   "pygments_lexer": "ipython3",
   "version": "3.10.4"
  }
 },
 "nbformat": 4,
 "nbformat_minor": 5
}
